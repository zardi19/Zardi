{
  "cells": [
    {
      "cell_type": "markdown",
      "metadata": {
        "id": "view-in-github",
        "colab_type": "text"
      },
      "source": [
        "<a href=\"https://colab.research.google.com/github/zardi19/Zardi/blob/main/template_introduction_python.ipynb\" target=\"_parent\"><img src=\"https://colab.research.google.com/assets/colab-badge.svg\" alt=\"Open In Colab\"/></a>"
      ]
    },
    {
      "cell_type": "markdown",
      "id": "39bf7b14",
      "metadata": {
        "id": "39bf7b14"
      },
      "source": [
        "## Buatlah sebuah program yang:\n",
        "\n",
        "   1. Meminta input dari pengguna:\n",
        "\n",
        "       - Nama mahasiswa\n",
        "\n",
        "       - NIM mahasiswa\n",
        "\n",
        "       - Nilai ujian (dalam angka, 0–100)\n",
        "\n",
        "   2. Cek dan tampilkan tipe data dari setiap input.\n",
        "\n",
        "   3. Gunakan if-elif-else untuk menentukan kategori nilai, dengan kriteria sebagai berikut:\n",
        "   \n",
        "```\n",
        "Nilai | Kategori\n",
        "85 - 100 | A (Sangat Baik)\n",
        "75 - 84 | B (Baik)\n",
        "60 - 74 | C (Cukup)\n",
        "40 - 59 | D (Kurang)\n",
        "< 40 | E (Sangat Kurang)\n",
        "```\n",
        "\n",
        "```\n",
        "==== Ekspektasi Output Jawaban : =====\n",
        "Masukkan nama mahasiswa: Sarah\n",
        "Masukkan NIM: 12345678\n",
        "Masukkan nilai ujian (0-100): 81\n",
        "\n",
        "Nama: Sarah (type: <class 'str'>)\n",
        "NIM: 12345678 (type: <class 'str'>)\n",
        "Nilai: 81 (type: <class 'int'>)\n",
        "\n",
        "Hasil Evaluasi:\n",
        "Mahasiswa: Sarah (NIM: 12345678)\n",
        "Nilai Ujian: 81\n",
        "Kategori Nilai: B (Baik)\n",
        "```"
      ]
    },
    {
      "cell_type": "code",
      "execution_count": null,
      "id": "e2ab644c",
      "metadata": {
        "id": "e2ab644c"
      },
      "outputs": [],
      "source": []
    },
    {
      "cell_type": "code",
      "source": [
        "namaMhsw = input(\"Masukkan nama mahasiswa: \")\n",
        "nim = input(\"Masukkan NIM: \")\n",
        "nilaiUjian = int(input(\"Masukkan nilai ujian (0-100): \"))\n",
        "\n",
        "print(\"Nama:\", namaMhsw, \"type:\", type(namaMhsw))\n",
        "print(\"NIM:\", nim, \"type:\", type(nim))\n",
        "print(\"Nilai:\", nilaiUjian, \"type\", type(nilaiUjian))\n",
        "\n",
        "if nilaiUjian >= 85:\n",
        "    print(\"Hasil Evaluasi:\")\n",
        "    print(\"Mahasiswa:\", namaMhsw, \"NIM:\", nim )\n",
        "    print(\"Nilai Ujian:\", nilaiUjian)\n",
        "    print(\"Kategori Nilai: A (Sangat Baik)\")\n",
        "elif nilaiUjian >= 75:\n",
        "    print(\"Hasil Evaluasi:\")\n",
        "    print(\"Mahasiswa:\", namaMhsw, \"NIM:\", nim)\n",
        "    print(\"Nilai Ujian:\", nilaiUjian)\n",
        "    print(\"Kategori Nilai: B (Baik)\")\n",
        "elif nilaiUjian >= 60:\n",
        "    print(\"Hasil Evaluasi:\")\n",
        "    print(\"Mahasiswa:\", namaMhsw, \"NIM\", nim)\n",
        "    print(\"Nilai Ujian:\", nilaiUjian)\n",
        "    print(\"Kategori Nilai: C (Cukup)\")\n",
        "elif nilaiUjian >= 40:\n",
        "    print(\"Hasil Evaluasi:\")\n",
        "    print(\"Mahasiswa:\", namaMhsw, \"NIM\", nim)\n",
        "    print(\"Nilai Ujian:\", nilaiUjian)\n",
        "    print(\"Kategori Nilai: D (Kurang)\")\n",
        "else :\n",
        "    print(\"Hasil Evaluasi:\")\n",
        "    print(\"Mahasiswa:\", namaMhsw, \"NIM\", nim)\n",
        "    print(\"Nilai Ujian:\", nilaiUjian)\n",
        "    print(\"Kategori Nilai: E (Sangat Kurang)\")"
      ],
      "metadata": {
        "colab": {
          "base_uri": "https://localhost:8080/"
        },
        "id": "l2A5KUEIWrD2",
        "outputId": "c9b583f2-5285-4109-baa8-fbc8165cc80f"
      },
      "id": "l2A5KUEIWrD2",
      "execution_count": 3,
      "outputs": [
        {
          "output_type": "stream",
          "name": "stdout",
          "text": [
            "Masukkan nama mahasiswa: ZARDI\n",
            "Masukkan NIM: 086\n",
            "Masukkan nilai ujian (0-100): 75\n",
            "Nama: ZARDI type: <class 'str'>\n",
            "NIM: 086 type: <class 'str'>\n",
            "Nilai: 75 type <class 'int'>\n",
            "Hasil Evaluasi:\n",
            "Mahasiswa: ZARDI NIM: 086\n",
            "Nilai Ujian: 75\n",
            "Kategori Nilai: B (Baik)\n"
          ]
        }
      ]
    }
  ],
  "metadata": {
    "kernelspec": {
      "display_name": "Python 3 (ipykernel)",
      "language": "python",
      "name": "python3"
    },
    "language_info": {
      "codemirror_mode": {
        "name": "ipython",
        "version": 3
      },
      "file_extension": ".py",
      "mimetype": "text/x-python",
      "name": "python",
      "nbconvert_exporter": "python",
      "pygments_lexer": "ipython3",
      "version": "3.11.4"
    },
    "colab": {
      "provenance": [],
      "toc_visible": true,
      "include_colab_link": true
    }
  },
  "nbformat": 4,
  "nbformat_minor": 5
}